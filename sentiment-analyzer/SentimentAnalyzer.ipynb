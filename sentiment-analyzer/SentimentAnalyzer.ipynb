{
  "metadata": {
    "kernelspec": {
      "name": "python",
      "display_name": "Python (Pyodide)",
      "language": "python"
    },
    "language_info": {
      "codemirror_mode": {
        "name": "python",
        "version": 3
      },
      "file_extension": ".py",
      "mimetype": "text/x-python",
      "name": "python",
      "nbconvert_exporter": "python",
      "pygments_lexer": "ipython3",
      "version": "3.8"
    }
  },
  "nbformat_minor": 5,
  "nbformat": 4,
  "cells": [
    {
      "cell_type": "code",
      "source": "#importing libraries",
      "metadata": {
        "tags": [],
        "trusted": true
      },
      "execution_count": 6,
      "outputs": [],
      "id": "f99c53a5-790b-4086-bc3c-6896a52c76ef"
    },
    {
      "cell_type": "code",
      "source": "!pip install nltk\n!pip install cufflinks \n!pip install wordcloud\n!pip install textblob",
      "metadata": {
        "tags": [],
        "collapsed": true,
        "jupyter": {
          "outputs_hidden": true
        },
        "trusted": true
      },
      "execution_count": 75,
      "outputs": [
        {
          "ename": "<class 'AttributeError'>",
          "evalue": "module 'pexpect' has no attribute 'TIMEOUT'",
          "traceback": [
            "\u001b[0;31m---------------------------------------------------------------------------\u001b[0m",
            "\u001b[0;31mAttributeError\u001b[0m                            Traceback (most recent call last)",
            "Cell \u001b[0;32mIn[75], line 1\u001b[0m\n\u001b[0;32m----> 1\u001b[0m \u001b[43mget_ipython\u001b[49m\u001b[43m(\u001b[49m\u001b[43m)\u001b[49m\u001b[38;5;241;43m.\u001b[39;49m\u001b[43msystem\u001b[49m\u001b[43m(\u001b[49m\u001b[38;5;124;43m'\u001b[39;49m\u001b[38;5;124;43mpip install nltk\u001b[39;49m\u001b[38;5;124;43m'\u001b[39;49m\u001b[43m)\u001b[49m\n\u001b[1;32m      2\u001b[0m get_ipython()\u001b[38;5;241m.\u001b[39msystem(\u001b[38;5;124m'\u001b[39m\u001b[38;5;124mpip install cufflinks\u001b[39m\u001b[38;5;124m'\u001b[39m)\n\u001b[1;32m      3\u001b[0m get_ipython()\u001b[38;5;241m.\u001b[39msystem(\u001b[38;5;124m'\u001b[39m\u001b[38;5;124mpip install wordcloud\u001b[39m\u001b[38;5;124m'\u001b[39m)\n",
            "File \u001b[0;32m/lib/python3.11/site-packages/IPython/core/interactiveshell.py:2590\u001b[0m, in \u001b[0;36mInteractiveShell.system_piped\u001b[0;34m(self, cmd)\u001b[0m\n\u001b[1;32m   2585\u001b[0m     \u001b[38;5;28;01mraise\u001b[39;00m \u001b[38;5;167;01mOSError\u001b[39;00m(\u001b[38;5;124m\"\u001b[39m\u001b[38;5;124mBackground processes not supported.\u001b[39m\u001b[38;5;124m\"\u001b[39m)\n\u001b[1;32m   2587\u001b[0m \u001b[38;5;66;03m# we explicitly do NOT return the subprocess status code, because\u001b[39;00m\n\u001b[1;32m   2588\u001b[0m \u001b[38;5;66;03m# a non-None value would trigger :func:`sys.displayhook` calls.\u001b[39;00m\n\u001b[1;32m   2589\u001b[0m \u001b[38;5;66;03m# Instead, we store the exit_code in user_ns.\u001b[39;00m\n\u001b[0;32m-> 2590\u001b[0m \u001b[38;5;28mself\u001b[39m\u001b[38;5;241m.\u001b[39muser_ns[\u001b[38;5;124m'\u001b[39m\u001b[38;5;124m_exit_code\u001b[39m\u001b[38;5;124m'\u001b[39m] \u001b[38;5;241m=\u001b[39m \u001b[43msystem\u001b[49m\u001b[43m(\u001b[49m\u001b[38;5;28;43mself\u001b[39;49m\u001b[38;5;241;43m.\u001b[39;49m\u001b[43mvar_expand\u001b[49m\u001b[43m(\u001b[49m\u001b[43mcmd\u001b[49m\u001b[43m,\u001b[49m\u001b[43m \u001b[49m\u001b[43mdepth\u001b[49m\u001b[38;5;241;43m=\u001b[39;49m\u001b[38;5;241;43m1\u001b[39;49m\u001b[43m)\u001b[49m\u001b[43m)\u001b[49m\n",
            "File \u001b[0;32m/lib/python3.11/site-packages/IPython/utils/_process_posix.py:129\u001b[0m, in \u001b[0;36mProcessHandler.system\u001b[0;34m(self, cmd)\u001b[0m\n\u001b[1;32m    125\u001b[0m enc \u001b[38;5;241m=\u001b[39m DEFAULT_ENCODING\n\u001b[1;32m    127\u001b[0m \u001b[38;5;66;03m# Patterns to match on the output, for pexpect.  We read input and\u001b[39;00m\n\u001b[1;32m    128\u001b[0m \u001b[38;5;66;03m# allow either a short timeout or EOF\u001b[39;00m\n\u001b[0;32m--> 129\u001b[0m patterns \u001b[38;5;241m=\u001b[39m [\u001b[43mpexpect\u001b[49m\u001b[38;5;241;43m.\u001b[39;49m\u001b[43mTIMEOUT\u001b[49m, pexpect\u001b[38;5;241m.\u001b[39mEOF]\n\u001b[1;32m    130\u001b[0m \u001b[38;5;66;03m# the index of the EOF pattern in the list.\u001b[39;00m\n\u001b[1;32m    131\u001b[0m \u001b[38;5;66;03m# even though we know it's 1, this call means we don't have to worry if\u001b[39;00m\n\u001b[1;32m    132\u001b[0m \u001b[38;5;66;03m# we change the above list, and forget to change this value:\u001b[39;00m\n\u001b[1;32m    133\u001b[0m EOF_index \u001b[38;5;241m=\u001b[39m patterns\u001b[38;5;241m.\u001b[39mindex(pexpect\u001b[38;5;241m.\u001b[39mEOF)\n",
            "\u001b[0;31mAttributeError\u001b[0m: module 'pexpect' has no attribute 'TIMEOUT'"
          ],
          "output_type": "error"
        }
      ],
      "id": "5534d7f3-65c5-480d-87aa-9dd58207a744"
    },
    {
      "cell_type": "code",
      "source": "import numpy as np \n#numpy- open source project, used for working with arrays, matrices and linear algebra\n\nimport pandas as pd\n#pandas- used for data manipulation and data analysis, provides data structures and operations for manipulating numerical tables and time series\n\nimport nltk\n#nltk- used for NLP, has text processing libs\n\nfrom nltk.sentiment.vader import SentimentIntensityAnalyzer\n\nimport re\nfrom textblob import TextBlob\nfrom wordcloud import WordCloud\nimport seaborn as sns\nimport matplotlib.pyplot as plt\nimport cufflinks as cf\n%matplotlib inline\nfrom plotly.offline import init_notebook_mode, iplot\ninit_notebook_mode(connected= True)\ncf.go_offline();\nimport plotly.graph_objs as go\nfrom plotly.subplots import make_subplots\n\nimport warnings\nwarnings.filterwarnings(\"ignore\")\nwarnings.warn(\"this will not show\")\n\npd.set_option(\"display.max_columns\", None)",
      "metadata": {
        "tags": [],
        "collapsed": true,
        "jupyter": {
          "outputs_hidden": true,
          "source_hidden": true
        },
        "trusted": true
      },
      "execution_count": 27,
      "outputs": [
        {
          "ename": "<class 'ModuleNotFoundError'>",
          "evalue": "No module named 'textblob'",
          "traceback": [
            "\u001b[0;31m---------------------------------------------------------------------------\u001b[0m",
            "\u001b[0;31mModuleNotFoundError\u001b[0m                       Traceback (most recent call last)",
            "Cell \u001b[0;32mIn[27], line 13\u001b[0m\n\u001b[1;32m     10\u001b[0m \u001b[38;5;28;01mfrom\u001b[39;00m \u001b[38;5;21;01mnltk\u001b[39;00m\u001b[38;5;21;01m.\u001b[39;00m\u001b[38;5;21;01msentiment\u001b[39;00m\u001b[38;5;21;01m.\u001b[39;00m\u001b[38;5;21;01mvader\u001b[39;00m \u001b[38;5;28;01mimport\u001b[39;00m SentimentIntensityAnalyzer\n\u001b[1;32m     12\u001b[0m \u001b[38;5;28;01mimport\u001b[39;00m \u001b[38;5;21;01mre\u001b[39;00m\n\u001b[0;32m---> 13\u001b[0m \u001b[38;5;28;01mfrom\u001b[39;00m \u001b[38;5;21;01mtextblob\u001b[39;00m \u001b[38;5;28;01mimport\u001b[39;00m TextBlob\n\u001b[1;32m     14\u001b[0m \u001b[38;5;28;01mfrom\u001b[39;00m \u001b[38;5;21;01mwordcloud\u001b[39;00m \u001b[38;5;28;01mimport\u001b[39;00m WordCloud\n\u001b[1;32m     15\u001b[0m \u001b[38;5;28;01mimport\u001b[39;00m \u001b[38;5;21;01mseaborn\u001b[39;00m \u001b[38;5;28;01mas\u001b[39;00m \u001b[38;5;21;01msns\u001b[39;00m\n",
            "\u001b[0;31mModuleNotFoundError\u001b[0m: No module named 'textblob'"
          ],
          "output_type": "error"
        }
      ],
      "id": "668b583f-dd22-4bb1-b9f5-1a558d70d976"
    },
    {
      "cell_type": "code",
      "source": "df=pd.read_csv(\"amazon.csv\")",
      "metadata": {
        "tags": [],
        "trusted": true
      },
      "execution_count": 28,
      "outputs": [],
      "id": "2552b6c0-8f06-4017-ade4-cf474a4db058"
    },
    {
      "cell_type": "code",
      "source": "df.head()",
      "metadata": {
        "tags": [],
        "trusted": true
      },
      "execution_count": 29,
      "outputs": [
        {
          "execution_count": 29,
          "output_type": "execute_result",
          "data": {
            "text/plain": "   Unnamed: 0  reviewerName  overall  \\\n0           0           NaN        4   \n1           1          0mie        5   \n2           2           1K3        4   \n3           3           1m2        5   \n4           4  2&amp;1/2Men        5   \n\n                                          reviewText  reviewTime  day_diff  \\\n0                                         No issues.  23-07-2014       138   \n1  Purchased this for my device, it worked as adv...  25-10-2013       409   \n2  it works as expected. I should have sprung for...  23-12-2012       715   \n3  This think has worked out great.Had a diff. br...  21-11-2013       382   \n4  Bought it with Retail Packaging, arrived legit...  13-07-2013       513   \n\n   helpful_yes  helpful_no  total_vote  score_pos_neg_diff  \\\n0            0           0           0                   0   \n1            0           0           0                   0   \n2            0           0           0                   0   \n3            0           0           0                   0   \n4            0           0           0                   0   \n\n   score_average_rating  wilson_lower_bound  \n0                   0.0                 0.0  \n1                   0.0                 0.0  \n2                   0.0                 0.0  \n3                   0.0                 0.0  \n4                   0.0                 0.0  ",
            "text/html": "<div>\n<style scoped>\n    .dataframe tbody tr th:only-of-type {\n        vertical-align: middle;\n    }\n\n    .dataframe tbody tr th {\n        vertical-align: top;\n    }\n\n    .dataframe thead th {\n        text-align: right;\n    }\n</style>\n<table border=\"1\" class=\"dataframe\">\n  <thead>\n    <tr style=\"text-align: right;\">\n      <th></th>\n      <th>Unnamed: 0</th>\n      <th>reviewerName</th>\n      <th>overall</th>\n      <th>reviewText</th>\n      <th>reviewTime</th>\n      <th>day_diff</th>\n      <th>helpful_yes</th>\n      <th>helpful_no</th>\n      <th>total_vote</th>\n      <th>score_pos_neg_diff</th>\n      <th>score_average_rating</th>\n      <th>wilson_lower_bound</th>\n    </tr>\n  </thead>\n  <tbody>\n    <tr>\n      <th>0</th>\n      <td>0</td>\n      <td>NaN</td>\n      <td>4</td>\n      <td>No issues.</td>\n      <td>23-07-2014</td>\n      <td>138</td>\n      <td>0</td>\n      <td>0</td>\n      <td>0</td>\n      <td>0</td>\n      <td>0.0</td>\n      <td>0.0</td>\n    </tr>\n    <tr>\n      <th>1</th>\n      <td>1</td>\n      <td>0mie</td>\n      <td>5</td>\n      <td>Purchased this for my device, it worked as adv...</td>\n      <td>25-10-2013</td>\n      <td>409</td>\n      <td>0</td>\n      <td>0</td>\n      <td>0</td>\n      <td>0</td>\n      <td>0.0</td>\n      <td>0.0</td>\n    </tr>\n    <tr>\n      <th>2</th>\n      <td>2</td>\n      <td>1K3</td>\n      <td>4</td>\n      <td>it works as expected. I should have sprung for...</td>\n      <td>23-12-2012</td>\n      <td>715</td>\n      <td>0</td>\n      <td>0</td>\n      <td>0</td>\n      <td>0</td>\n      <td>0.0</td>\n      <td>0.0</td>\n    </tr>\n    <tr>\n      <th>3</th>\n      <td>3</td>\n      <td>1m2</td>\n      <td>5</td>\n      <td>This think has worked out great.Had a diff. br...</td>\n      <td>21-11-2013</td>\n      <td>382</td>\n      <td>0</td>\n      <td>0</td>\n      <td>0</td>\n      <td>0</td>\n      <td>0.0</td>\n      <td>0.0</td>\n    </tr>\n    <tr>\n      <th>4</th>\n      <td>4</td>\n      <td>2&amp;amp;1/2Men</td>\n      <td>5</td>\n      <td>Bought it with Retail Packaging, arrived legit...</td>\n      <td>13-07-2013</td>\n      <td>513</td>\n      <td>0</td>\n      <td>0</td>\n      <td>0</td>\n      <td>0</td>\n      <td>0.0</td>\n      <td>0.0</td>\n    </tr>\n  </tbody>\n</table>\n</div>"
          },
          "metadata": {}
        }
      ],
      "id": "6c30ba1a-cd18-4e93-80f6-f6e2c67df0da"
    },
    {
      "cell_type": "code",
      "source": "df.tail()",
      "metadata": {
        "tags": [],
        "trusted": true
      },
      "execution_count": 30,
      "outputs": [
        {
          "execution_count": 30,
          "output_type": "execute_result",
          "data": {
            "text/plain": "      Unnamed: 0 reviewerName  overall  \\\n4910        4910       ZM \"J\"        1   \n4911        4911           Zo        5   \n4912        4912    Z S Liske        5   \n4913        4913     Z Taylor        5   \n4914        4914          Zza        5   \n\n                                             reviewText  reviewTime  day_diff  \\\n4910  I bought this Sandisk 16GB Class 10 to use wit...  23-07-2013       503   \n4911  Used this for extending the capabilities of my...  22-08-2013       473   \n4912  Great card that is very fast and reliable. It ...  31-03-2014       252   \n4913  Good amount of space for the stuff I want to d...  16-09-2013       448   \n4914  I've heard bad things about this 64gb Micro SD...  01-02-2014       310   \n\n      helpful_yes  helpful_no  total_vote  score_pos_neg_diff  \\\n4910            0           0           0                   0   \n4911            0           0           0                   0   \n4912            0           0           0                   0   \n4913            0           0           0                   0   \n4914            0           0           0                   0   \n\n      score_average_rating  wilson_lower_bound  \n4910                   0.0                 0.0  \n4911                   0.0                 0.0  \n4912                   0.0                 0.0  \n4913                   0.0                 0.0  \n4914                   0.0                 0.0  ",
            "text/html": "<div>\n<style scoped>\n    .dataframe tbody tr th:only-of-type {\n        vertical-align: middle;\n    }\n\n    .dataframe tbody tr th {\n        vertical-align: top;\n    }\n\n    .dataframe thead th {\n        text-align: right;\n    }\n</style>\n<table border=\"1\" class=\"dataframe\">\n  <thead>\n    <tr style=\"text-align: right;\">\n      <th></th>\n      <th>Unnamed: 0</th>\n      <th>reviewerName</th>\n      <th>overall</th>\n      <th>reviewText</th>\n      <th>reviewTime</th>\n      <th>day_diff</th>\n      <th>helpful_yes</th>\n      <th>helpful_no</th>\n      <th>total_vote</th>\n      <th>score_pos_neg_diff</th>\n      <th>score_average_rating</th>\n      <th>wilson_lower_bound</th>\n    </tr>\n  </thead>\n  <tbody>\n    <tr>\n      <th>4910</th>\n      <td>4910</td>\n      <td>ZM \"J\"</td>\n      <td>1</td>\n      <td>I bought this Sandisk 16GB Class 10 to use wit...</td>\n      <td>23-07-2013</td>\n      <td>503</td>\n      <td>0</td>\n      <td>0</td>\n      <td>0</td>\n      <td>0</td>\n      <td>0.0</td>\n      <td>0.0</td>\n    </tr>\n    <tr>\n      <th>4911</th>\n      <td>4911</td>\n      <td>Zo</td>\n      <td>5</td>\n      <td>Used this for extending the capabilities of my...</td>\n      <td>22-08-2013</td>\n      <td>473</td>\n      <td>0</td>\n      <td>0</td>\n      <td>0</td>\n      <td>0</td>\n      <td>0.0</td>\n      <td>0.0</td>\n    </tr>\n    <tr>\n      <th>4912</th>\n      <td>4912</td>\n      <td>Z S Liske</td>\n      <td>5</td>\n      <td>Great card that is very fast and reliable. It ...</td>\n      <td>31-03-2014</td>\n      <td>252</td>\n      <td>0</td>\n      <td>0</td>\n      <td>0</td>\n      <td>0</td>\n      <td>0.0</td>\n      <td>0.0</td>\n    </tr>\n    <tr>\n      <th>4913</th>\n      <td>4913</td>\n      <td>Z Taylor</td>\n      <td>5</td>\n      <td>Good amount of space for the stuff I want to d...</td>\n      <td>16-09-2013</td>\n      <td>448</td>\n      <td>0</td>\n      <td>0</td>\n      <td>0</td>\n      <td>0</td>\n      <td>0.0</td>\n      <td>0.0</td>\n    </tr>\n    <tr>\n      <th>4914</th>\n      <td>4914</td>\n      <td>Zza</td>\n      <td>5</td>\n      <td>I've heard bad things about this 64gb Micro SD...</td>\n      <td>01-02-2014</td>\n      <td>310</td>\n      <td>0</td>\n      <td>0</td>\n      <td>0</td>\n      <td>0</td>\n      <td>0.0</td>\n      <td>0.0</td>\n    </tr>\n  </tbody>\n</table>\n</div>"
          },
          "metadata": {}
        }
      ],
      "id": "479f61be-c0e4-42be-934d-88b006540ff3"
    },
    {
      "cell_type": "code",
      "source": "df",
      "metadata": {
        "tags": [],
        "trusted": true
      },
      "execution_count": 31,
      "outputs": [
        {
          "execution_count": 31,
          "output_type": "execute_result",
          "data": {
            "text/plain": "      Unnamed: 0  reviewerName  overall  \\\n0              0           NaN        4   \n1              1          0mie        5   \n2              2           1K3        4   \n3              3           1m2        5   \n4              4  2&amp;1/2Men        5   \n...          ...           ...      ...   \n4910        4910        ZM \"J\"        1   \n4911        4911            Zo        5   \n4912        4912     Z S Liske        5   \n4913        4913      Z Taylor        5   \n4914        4914           Zza        5   \n\n                                             reviewText  reviewTime  day_diff  \\\n0                                            No issues.  23-07-2014       138   \n1     Purchased this for my device, it worked as adv...  25-10-2013       409   \n2     it works as expected. I should have sprung for...  23-12-2012       715   \n3     This think has worked out great.Had a diff. br...  21-11-2013       382   \n4     Bought it with Retail Packaging, arrived legit...  13-07-2013       513   \n...                                                 ...         ...       ...   \n4910  I bought this Sandisk 16GB Class 10 to use wit...  23-07-2013       503   \n4911  Used this for extending the capabilities of my...  22-08-2013       473   \n4912  Great card that is very fast and reliable. It ...  31-03-2014       252   \n4913  Good amount of space for the stuff I want to d...  16-09-2013       448   \n4914  I've heard bad things about this 64gb Micro SD...  01-02-2014       310   \n\n      helpful_yes  helpful_no  total_vote  score_pos_neg_diff  \\\n0               0           0           0                   0   \n1               0           0           0                   0   \n2               0           0           0                   0   \n3               0           0           0                   0   \n4               0           0           0                   0   \n...           ...         ...         ...                 ...   \n4910            0           0           0                   0   \n4911            0           0           0                   0   \n4912            0           0           0                   0   \n4913            0           0           0                   0   \n4914            0           0           0                   0   \n\n      score_average_rating  wilson_lower_bound  \n0                      0.0                 0.0  \n1                      0.0                 0.0  \n2                      0.0                 0.0  \n3                      0.0                 0.0  \n4                      0.0                 0.0  \n...                    ...                 ...  \n4910                   0.0                 0.0  \n4911                   0.0                 0.0  \n4912                   0.0                 0.0  \n4913                   0.0                 0.0  \n4914                   0.0                 0.0  \n\n[4915 rows x 12 columns]",
            "text/html": "<div>\n<style scoped>\n    .dataframe tbody tr th:only-of-type {\n        vertical-align: middle;\n    }\n\n    .dataframe tbody tr th {\n        vertical-align: top;\n    }\n\n    .dataframe thead th {\n        text-align: right;\n    }\n</style>\n<table border=\"1\" class=\"dataframe\">\n  <thead>\n    <tr style=\"text-align: right;\">\n      <th></th>\n      <th>Unnamed: 0</th>\n      <th>reviewerName</th>\n      <th>overall</th>\n      <th>reviewText</th>\n      <th>reviewTime</th>\n      <th>day_diff</th>\n      <th>helpful_yes</th>\n      <th>helpful_no</th>\n      <th>total_vote</th>\n      <th>score_pos_neg_diff</th>\n      <th>score_average_rating</th>\n      <th>wilson_lower_bound</th>\n    </tr>\n  </thead>\n  <tbody>\n    <tr>\n      <th>0</th>\n      <td>0</td>\n      <td>NaN</td>\n      <td>4</td>\n      <td>No issues.</td>\n      <td>23-07-2014</td>\n      <td>138</td>\n      <td>0</td>\n      <td>0</td>\n      <td>0</td>\n      <td>0</td>\n      <td>0.0</td>\n      <td>0.0</td>\n    </tr>\n    <tr>\n      <th>1</th>\n      <td>1</td>\n      <td>0mie</td>\n      <td>5</td>\n      <td>Purchased this for my device, it worked as adv...</td>\n      <td>25-10-2013</td>\n      <td>409</td>\n      <td>0</td>\n      <td>0</td>\n      <td>0</td>\n      <td>0</td>\n      <td>0.0</td>\n      <td>0.0</td>\n    </tr>\n    <tr>\n      <th>2</th>\n      <td>2</td>\n      <td>1K3</td>\n      <td>4</td>\n      <td>it works as expected. I should have sprung for...</td>\n      <td>23-12-2012</td>\n      <td>715</td>\n      <td>0</td>\n      <td>0</td>\n      <td>0</td>\n      <td>0</td>\n      <td>0.0</td>\n      <td>0.0</td>\n    </tr>\n    <tr>\n      <th>3</th>\n      <td>3</td>\n      <td>1m2</td>\n      <td>5</td>\n      <td>This think has worked out great.Had a diff. br...</td>\n      <td>21-11-2013</td>\n      <td>382</td>\n      <td>0</td>\n      <td>0</td>\n      <td>0</td>\n      <td>0</td>\n      <td>0.0</td>\n      <td>0.0</td>\n    </tr>\n    <tr>\n      <th>4</th>\n      <td>4</td>\n      <td>2&amp;amp;1/2Men</td>\n      <td>5</td>\n      <td>Bought it with Retail Packaging, arrived legit...</td>\n      <td>13-07-2013</td>\n      <td>513</td>\n      <td>0</td>\n      <td>0</td>\n      <td>0</td>\n      <td>0</td>\n      <td>0.0</td>\n      <td>0.0</td>\n    </tr>\n    <tr>\n      <th>...</th>\n      <td>...</td>\n      <td>...</td>\n      <td>...</td>\n      <td>...</td>\n      <td>...</td>\n      <td>...</td>\n      <td>...</td>\n      <td>...</td>\n      <td>...</td>\n      <td>...</td>\n      <td>...</td>\n      <td>...</td>\n    </tr>\n    <tr>\n      <th>4910</th>\n      <td>4910</td>\n      <td>ZM \"J\"</td>\n      <td>1</td>\n      <td>I bought this Sandisk 16GB Class 10 to use wit...</td>\n      <td>23-07-2013</td>\n      <td>503</td>\n      <td>0</td>\n      <td>0</td>\n      <td>0</td>\n      <td>0</td>\n      <td>0.0</td>\n      <td>0.0</td>\n    </tr>\n    <tr>\n      <th>4911</th>\n      <td>4911</td>\n      <td>Zo</td>\n      <td>5</td>\n      <td>Used this for extending the capabilities of my...</td>\n      <td>22-08-2013</td>\n      <td>473</td>\n      <td>0</td>\n      <td>0</td>\n      <td>0</td>\n      <td>0</td>\n      <td>0.0</td>\n      <td>0.0</td>\n    </tr>\n    <tr>\n      <th>4912</th>\n      <td>4912</td>\n      <td>Z S Liske</td>\n      <td>5</td>\n      <td>Great card that is very fast and reliable. It ...</td>\n      <td>31-03-2014</td>\n      <td>252</td>\n      <td>0</td>\n      <td>0</td>\n      <td>0</td>\n      <td>0</td>\n      <td>0.0</td>\n      <td>0.0</td>\n    </tr>\n    <tr>\n      <th>4913</th>\n      <td>4913</td>\n      <td>Z Taylor</td>\n      <td>5</td>\n      <td>Good amount of space for the stuff I want to d...</td>\n      <td>16-09-2013</td>\n      <td>448</td>\n      <td>0</td>\n      <td>0</td>\n      <td>0</td>\n      <td>0</td>\n      <td>0.0</td>\n      <td>0.0</td>\n    </tr>\n    <tr>\n      <th>4914</th>\n      <td>4914</td>\n      <td>Zza</td>\n      <td>5</td>\n      <td>I've heard bad things about this 64gb Micro SD...</td>\n      <td>01-02-2014</td>\n      <td>310</td>\n      <td>0</td>\n      <td>0</td>\n      <td>0</td>\n      <td>0</td>\n      <td>0.0</td>\n      <td>0.0</td>\n    </tr>\n  </tbody>\n</table>\n<p>4915 rows × 12 columns</p>\n</div>"
          },
          "metadata": {}
        }
      ],
      "id": "20fbd964-9976-4659-b46e-2af9ce96441c"
    },
    {
      "cell_type": "code",
      "source": "df= df.sort_values('wilson_lower_bound', ascending=False)\n#arrange in descending order acc. to wilson lower bound\n\ndf.drop(\"Unnamed: 0\", inplace =True, axis=1)\n#removes specified column when column axis is specified\n\ndf.head()",
      "metadata": {
        "tags": [],
        "trusted": true
      },
      "execution_count": 32,
      "outputs": [
        {
          "execution_count": 32,
          "output_type": "execute_result",
          "data": {
            "text/plain": "                 reviewerName  overall  \\\n2031     Hyoun Kim \"Faluzure\"        5   \n3449        NLee the Engineer        5   \n4212              SkincareCEO        1   \n317   Amazon Customer \"Kelly\"        1   \n4672                  Twister        5   \n\n                                             reviewText  reviewTime  day_diff  \\\n2031  [[ UPDATE - 6/19/2014 ]]So my lovely wife boug...  05-01-2013       702   \n3449  I have tested dozens of SDHC and micro-SDHC ca...  26-09-2012       803   \n4212  NOTE:  please read the last update (scroll to ...  08-05-2013       579   \n317   If your card gets hot enough to be painful, it...  09-02-2012      1033   \n4672  Sandisk announcement of the first 128GB micro ...  03-07-2014       158   \n\n      helpful_yes  helpful_no  total_vote  score_pos_neg_diff  \\\n2031         1952          68        2020                1884   \n3449         1428          77        1505                1351   \n4212         1568         126        1694                1442   \n317           422          73         495                 349   \n4672           45           4          49                  41   \n\n      score_average_rating  wilson_lower_bound  \n2031              0.966337            0.957544  \n3449              0.948837            0.936519  \n4212              0.925620            0.912139  \n317               0.852525            0.818577  \n4672              0.918367            0.808109  ",
            "text/html": "<div>\n<style scoped>\n    .dataframe tbody tr th:only-of-type {\n        vertical-align: middle;\n    }\n\n    .dataframe tbody tr th {\n        vertical-align: top;\n    }\n\n    .dataframe thead th {\n        text-align: right;\n    }\n</style>\n<table border=\"1\" class=\"dataframe\">\n  <thead>\n    <tr style=\"text-align: right;\">\n      <th></th>\n      <th>reviewerName</th>\n      <th>overall</th>\n      <th>reviewText</th>\n      <th>reviewTime</th>\n      <th>day_diff</th>\n      <th>helpful_yes</th>\n      <th>helpful_no</th>\n      <th>total_vote</th>\n      <th>score_pos_neg_diff</th>\n      <th>score_average_rating</th>\n      <th>wilson_lower_bound</th>\n    </tr>\n  </thead>\n  <tbody>\n    <tr>\n      <th>2031</th>\n      <td>Hyoun Kim \"Faluzure\"</td>\n      <td>5</td>\n      <td>[[ UPDATE - 6/19/2014 ]]So my lovely wife boug...</td>\n      <td>05-01-2013</td>\n      <td>702</td>\n      <td>1952</td>\n      <td>68</td>\n      <td>2020</td>\n      <td>1884</td>\n      <td>0.966337</td>\n      <td>0.957544</td>\n    </tr>\n    <tr>\n      <th>3449</th>\n      <td>NLee the Engineer</td>\n      <td>5</td>\n      <td>I have tested dozens of SDHC and micro-SDHC ca...</td>\n      <td>26-09-2012</td>\n      <td>803</td>\n      <td>1428</td>\n      <td>77</td>\n      <td>1505</td>\n      <td>1351</td>\n      <td>0.948837</td>\n      <td>0.936519</td>\n    </tr>\n    <tr>\n      <th>4212</th>\n      <td>SkincareCEO</td>\n      <td>1</td>\n      <td>NOTE:  please read the last update (scroll to ...</td>\n      <td>08-05-2013</td>\n      <td>579</td>\n      <td>1568</td>\n      <td>126</td>\n      <td>1694</td>\n      <td>1442</td>\n      <td>0.925620</td>\n      <td>0.912139</td>\n    </tr>\n    <tr>\n      <th>317</th>\n      <td>Amazon Customer \"Kelly\"</td>\n      <td>1</td>\n      <td>If your card gets hot enough to be painful, it...</td>\n      <td>09-02-2012</td>\n      <td>1033</td>\n      <td>422</td>\n      <td>73</td>\n      <td>495</td>\n      <td>349</td>\n      <td>0.852525</td>\n      <td>0.818577</td>\n    </tr>\n    <tr>\n      <th>4672</th>\n      <td>Twister</td>\n      <td>5</td>\n      <td>Sandisk announcement of the first 128GB micro ...</td>\n      <td>03-07-2014</td>\n      <td>158</td>\n      <td>45</td>\n      <td>4</td>\n      <td>49</td>\n      <td>41</td>\n      <td>0.918367</td>\n      <td>0.808109</td>\n    </tr>\n  </tbody>\n</table>\n</div>"
          },
          "metadata": {}
        }
      ],
      "id": "857a848c-26c8-4527-af68-44aad1386278"
    },
    {
      "cell_type": "code",
      "source": "#for missing values\n\ndef missing_val_analysis(df):\n    na_columns_=[ col for col in df.columns if df[col].isnull().sum()>0]\n    n_miss= df[na_columns_].isnull().sum().sort_values(ascending=True)\n    ratio_= (df[na_columns_].isnull().sum() / df.shape[0]*100).sort_values(ascending=True)\n    missing_df= pd.concat([n_miss, np.round(ratio_,2)], axis=1, keys=['Missing Values','Ratio'])\n    missing_df= pd.DataFrame(missing_df)\n    return missing_df",
      "metadata": {
        "trusted": true
      },
      "execution_count": 70,
      "outputs": [],
      "id": "292a8a26-2079-4d1e-9343-7b682b5a44ab"
    },
    {
      "cell_type": "code",
      "source": "def check_dataframe(df, head=5, tail=5):\n    print(\"SHAPE\".center(82,'~'))\n    print('Rows: {}'.format(df.shape[0]))\n    print('Columns: {}'.format(df.shape[1]))\n    print(\"TYPES\".center(82,'~'))\n    print(df.dtypes)\n    print(\"\".center(82,'~'))\n    print(missing_val_analysis(df))\n    print(\"DUPLICATED VALUES\".center(83,'~'))\n    print(df.duplicated().sum())\n    print(\"QUANTILES\".center(82,'~'))\n    print(df.quantile([0,0.05,0.50,0.95,0.99,1]).T)\n\ncheck_dataframe(df)",
      "metadata": {
        "trusted": true
      },
      "execution_count": 71,
      "outputs": [
        {
          "name": "stdout",
          "text": "~~~~~~~~~~~~~~~~~~~~~~~~~~~~~~~~~~~~~~SHAPE~~~~~~~~~~~~~~~~~~~~~~~~~~~~~~~~~~~~~~~\nRows: 4915\nColumns: 11\n~~~~~~~~~~~~~~~~~~~~~~~~~~~~~~~~~~~~~~TYPES~~~~~~~~~~~~~~~~~~~~~~~~~~~~~~~~~~~~~~~\nreviewerName             object\noverall                   int64\nreviewText               object\nreviewTime               object\nday_diff                  int64\nhelpful_yes               int64\nhelpful_no                int64\ntotal_vote                int64\nscore_pos_neg_diff        int64\nscore_average_rating    float64\nwilson_lower_bound      float64\ndtype: object\n~~~~~~~~~~~~~~~~~~~~~~~~~~~~~~~~~~~~~~~~~~~~~~~~~~~~~~~~~~~~~~~~~~~~~~~~~~~~~~~~~~\n              Missing Values  Ratio\nreviewerName               1   0.02\nreviewText                 1   0.02\n~~~~~~~~~~~~~~~~~~~~~~~~~~~~~~~~~DUPLICATED VALUES~~~~~~~~~~~~~~~~~~~~~~~~~~~~~~~~~\n0\n~~~~~~~~~~~~~~~~~~~~~~~~~~~~~~~~~~~~QUANTILES~~~~~~~~~~~~~~~~~~~~~~~~~~~~~~~~~~~~~\n",
          "output_type": "stream"
        },
        {
          "name": "stderr",
          "text": "<ipython-input-71-bddf8b6efa93>:12: FutureWarning: The default value of numeric_only in DataFrame.quantile is deprecated. In a future version, it will default to False. Select only valid columns or specify the value of numeric_only to silence this warning.\n  print(df.quantile([0,0.05,0.50,0.95,0.99,1]).T)\n",
          "output_type": "stream"
        },
        {
          "name": "stdout",
          "text": "                       0.00  0.05   0.50        0.95       0.99         1.00\noverall                 1.0   2.0    5.0    5.000000    5.00000     5.000000\nday_diff                1.0  98.0  431.0  748.000000  943.00000  1064.000000\nhelpful_yes             0.0   0.0    0.0    1.000000    3.00000  1952.000000\nhelpful_no              0.0   0.0    0.0    0.000000    2.00000   183.000000\ntotal_vote              0.0   0.0    0.0    1.000000    4.00000  2020.000000\nscore_pos_neg_diff   -130.0   0.0    0.0    1.000000    2.00000  1884.000000\nscore_average_rating    0.0   0.0    0.0    1.000000    1.00000     1.000000\nwilson_lower_bound      0.0   0.0    0.0    0.206549    0.34238     0.957544\n",
          "output_type": "stream"
        }
      ],
      "id": "29cc749f-3ce1-4bc1-855d-6897ff2adc24"
    },
    {
      "cell_type": "code",
      "source": "#finding no. of unique values\n\ndef check_class(dataframe):\n    nunique_df=pd.DataFrame({'Variable': dataframe.columns,\n                            'Classes': [dataframe[i].nunique() \\\n                                       for i in dataframe.columns]})\n    nunique_df= nunique_df.sort_values('Classes', ascending= False)\n    nunique_df= nunique_df.reset_index(drop=True)\n    return nunique_df\n\ncheck_class(df)",
      "metadata": {
        "trusted": true
      },
      "execution_count": 72,
      "outputs": [
        {
          "execution_count": 72,
          "output_type": "execute_result",
          "data": {
            "text/plain": "                Variable  Classes\n0             reviewText     4912\n1           reviewerName     4594\n2             reviewTime      690\n3               day_diff      690\n4     wilson_lower_bound       40\n5   score_average_rating       28\n6     score_pos_neg_diff       27\n7             total_vote       26\n8            helpful_yes       23\n9             helpful_no       17\n10               overall        5",
            "text/html": "<div>\n<style scoped>\n    .dataframe tbody tr th:only-of-type {\n        vertical-align: middle;\n    }\n\n    .dataframe tbody tr th {\n        vertical-align: top;\n    }\n\n    .dataframe thead th {\n        text-align: right;\n    }\n</style>\n<table border=\"1\" class=\"dataframe\">\n  <thead>\n    <tr style=\"text-align: right;\">\n      <th></th>\n      <th>Variable</th>\n      <th>Classes</th>\n    </tr>\n  </thead>\n  <tbody>\n    <tr>\n      <th>0</th>\n      <td>reviewText</td>\n      <td>4912</td>\n    </tr>\n    <tr>\n      <th>1</th>\n      <td>reviewerName</td>\n      <td>4594</td>\n    </tr>\n    <tr>\n      <th>2</th>\n      <td>reviewTime</td>\n      <td>690</td>\n    </tr>\n    <tr>\n      <th>3</th>\n      <td>day_diff</td>\n      <td>690</td>\n    </tr>\n    <tr>\n      <th>4</th>\n      <td>wilson_lower_bound</td>\n      <td>40</td>\n    </tr>\n    <tr>\n      <th>5</th>\n      <td>score_average_rating</td>\n      <td>28</td>\n    </tr>\n    <tr>\n      <th>6</th>\n      <td>score_pos_neg_diff</td>\n      <td>27</td>\n    </tr>\n    <tr>\n      <th>7</th>\n      <td>total_vote</td>\n      <td>26</td>\n    </tr>\n    <tr>\n      <th>8</th>\n      <td>helpful_yes</td>\n      <td>23</td>\n    </tr>\n    <tr>\n      <th>9</th>\n      <td>helpful_no</td>\n      <td>17</td>\n    </tr>\n    <tr>\n      <th>10</th>\n      <td>overall</td>\n      <td>5</td>\n    </tr>\n  </tbody>\n</table>\n</div>"
          },
          "metadata": {}
        }
      ],
      "id": "dcf3c57a-28d7-4a23-b4d6-62d23075f4f8"
    },
    {
      "cell_type": "code",
      "source": "constraints= ['#B34D22','#EBE00C','#1FEB0C','#0C92EB','#EB0CD5']\ndef categorical_variable_summary(df,column_name):\n    fig= make_subplots(rows=1, cols=2,\n                  subplot_titles=('Countplot','Percentage'),\n                  specs=[[{\"types\":\"xy\"},{'types':'domain'}]])\n\n    fig.add_trace(go.Bar( y=df[column_name].value_counts().values.tolist(),\n                          x=[str(i) for i in df[column_name].value_counts().index],\n                          text= df[column_name].value_counts().values.tolist(),\n                          textfont= dict(size=14),\n                          name=column_name,\n                          textposition='auto',\n                          showlegend= False,\n                          marker= dict(color= constraints,\n                                       line=dict(color='#DBE6EC',\n                                                width=1))),\n                         row=1, col=1)\n    \n    fig.add_trace(go.Pie(labels=df[column_name].value_counts().keys(),\n                         values= df[column_name].value_counts().values,\n                                   textfont= dict(size=18),\n                                   tetposition='auto',\n                                   showlegend= False,\n                                   name= column_name,\n                                   marker= dict(colors= constraints)),\n                 row=1, col=2)\n    \n    fig.update_layout(title={'text': colomn_name,\n                             'y':0.9,\n                             'x':0.5,\n                             'xanchor':'center',\n                             'yanchor':'top'},\n                     template='plotly_white')\n    iplot(fig)",
      "metadata": {
        "trusted": true
      },
      "execution_count": 73,
      "outputs": [],
      "id": "0f3857e4-793c-4e61-8b04-8bdc3a7c68a3"
    },
    {
      "cell_type": "code",
      "source": "categorical_variable_summary(df,'overall')",
      "metadata": {
        "trusted": true
      },
      "execution_count": 74,
      "outputs": [
        {
          "ename": "<class 'NameError'>",
          "evalue": "name 'make_subplots' is not defined",
          "traceback": [
            "\u001b[0;31m---------------------------------------------------------------------------\u001b[0m",
            "\u001b[0;31mNameError\u001b[0m                                 Traceback (most recent call last)",
            "Cell \u001b[0;32mIn[74], line 1\u001b[0m\n\u001b[0;32m----> 1\u001b[0m \u001b[43mcategorical_variable_summary\u001b[49m\u001b[43m(\u001b[49m\u001b[43mdf\u001b[49m\u001b[43m,\u001b[49m\u001b[38;5;124;43m'\u001b[39;49m\u001b[38;5;124;43moverall\u001b[39;49m\u001b[38;5;124;43m'\u001b[39;49m\u001b[43m)\u001b[49m\n",
            "Cell \u001b[0;32mIn[73], line 3\u001b[0m, in \u001b[0;36mcategorical_variable_summary\u001b[0;34m(df, column_name)\u001b[0m\n\u001b[1;32m      2\u001b[0m \u001b[38;5;28;01mdef\u001b[39;00m \u001b[38;5;21mcategorical_variable_summary\u001b[39m(df,column_name):\n\u001b[0;32m----> 3\u001b[0m     fig\u001b[38;5;241m=\u001b[39m \u001b[43mmake_subplots\u001b[49m(rows\u001b[38;5;241m=\u001b[39m\u001b[38;5;241m1\u001b[39m, cols\u001b[38;5;241m=\u001b[39m\u001b[38;5;241m2\u001b[39m,\n\u001b[1;32m      4\u001b[0m                   subplot_titles\u001b[38;5;241m=\u001b[39m(\u001b[38;5;124m'\u001b[39m\u001b[38;5;124mCountplot\u001b[39m\u001b[38;5;124m'\u001b[39m,\u001b[38;5;124m'\u001b[39m\u001b[38;5;124mPercentage\u001b[39m\u001b[38;5;124m'\u001b[39m),\n\u001b[1;32m      5\u001b[0m                   specs\u001b[38;5;241m=\u001b[39m[[{\u001b[38;5;124m\"\u001b[39m\u001b[38;5;124mtypes\u001b[39m\u001b[38;5;124m\"\u001b[39m:\u001b[38;5;124m\"\u001b[39m\u001b[38;5;124mxy\u001b[39m\u001b[38;5;124m\"\u001b[39m},{\u001b[38;5;124m'\u001b[39m\u001b[38;5;124mtypes\u001b[39m\u001b[38;5;124m'\u001b[39m:\u001b[38;5;124m'\u001b[39m\u001b[38;5;124mdomain\u001b[39m\u001b[38;5;124m'\u001b[39m}]])\n\u001b[1;32m      7\u001b[0m     fig\u001b[38;5;241m.\u001b[39madd_trace(go\u001b[38;5;241m.\u001b[39mBar( y\u001b[38;5;241m=\u001b[39mdf[column_name]\u001b[38;5;241m.\u001b[39mvalue_counts()\u001b[38;5;241m.\u001b[39mvalues\u001b[38;5;241m.\u001b[39mtolist(),\n\u001b[1;32m      8\u001b[0m                           x\u001b[38;5;241m=\u001b[39m[\u001b[38;5;28mstr\u001b[39m(i) \u001b[38;5;28;01mfor\u001b[39;00m i \u001b[38;5;129;01min\u001b[39;00m df[column_name]\u001b[38;5;241m.\u001b[39mvalue_counts()\u001b[38;5;241m.\u001b[39mindex],\n\u001b[1;32m      9\u001b[0m                           text\u001b[38;5;241m=\u001b[39m df[column_name]\u001b[38;5;241m.\u001b[39mvalue_counts()\u001b[38;5;241m.\u001b[39mvalues\u001b[38;5;241m.\u001b[39mtolist(),\n\u001b[0;32m   (...)\u001b[0m\n\u001b[1;32m     16\u001b[0m                                                 width\u001b[38;5;241m=\u001b[39m\u001b[38;5;241m1\u001b[39m))),\n\u001b[1;32m     17\u001b[0m                          row\u001b[38;5;241m=\u001b[39m\u001b[38;5;241m1\u001b[39m, col\u001b[38;5;241m=\u001b[39m\u001b[38;5;241m1\u001b[39m)\n\u001b[1;32m     19\u001b[0m     fig\u001b[38;5;241m.\u001b[39madd_trace(go\u001b[38;5;241m.\u001b[39mPie(labels\u001b[38;5;241m=\u001b[39mdf[column_name]\u001b[38;5;241m.\u001b[39mvalue_counts()\u001b[38;5;241m.\u001b[39mkeys(),\n\u001b[1;32m     20\u001b[0m                          values\u001b[38;5;241m=\u001b[39m df[column_name]\u001b[38;5;241m.\u001b[39mvalue_counts()\u001b[38;5;241m.\u001b[39mvalues,\n\u001b[1;32m     21\u001b[0m                                    textfont\u001b[38;5;241m=\u001b[39m \u001b[38;5;28mdict\u001b[39m(size\u001b[38;5;241m=\u001b[39m\u001b[38;5;241m18\u001b[39m),\n\u001b[0;32m   (...)\u001b[0m\n\u001b[1;32m     25\u001b[0m                                    marker\u001b[38;5;241m=\u001b[39m \u001b[38;5;28mdict\u001b[39m(colors\u001b[38;5;241m=\u001b[39m constraints)),\n\u001b[1;32m     26\u001b[0m                  row\u001b[38;5;241m=\u001b[39m\u001b[38;5;241m1\u001b[39m, col\u001b[38;5;241m=\u001b[39m\u001b[38;5;241m2\u001b[39m)\n",
            "\u001b[0;31mNameError\u001b[0m: name 'make_subplots' is not defined"
          ],
          "output_type": "error"
        }
      ],
      "id": "78778cf8-e112-499b-b703-d2998dd0f352"
    },
    {
      "cell_type": "code",
      "source": "df.reviewText.head()",
      "metadata": {
        "trusted": true
      },
      "execution_count": 84,
      "outputs": [
        {
          "execution_count": 84,
          "output_type": "execute_result",
          "data": {
            "text/plain": "2031    [[ UPDATE - 6/19/2014 ]]So my lovely wife boug...\n3449    I have tested dozens of SDHC and micro-SDHC ca...\n4212    NOTE:  please read the last update (scroll to ...\n317     If your card gets hot enough to be painful, it...\n4672    Sandisk announcement of the first 128GB micro ...\nName: reviewText, dtype: object"
          },
          "metadata": {}
        }
      ],
      "id": "8b8b54a0-9c48-4c2d-8890-77924b4d86ea"
    },
    {
      "cell_type": "code",
      "source": "review_example= df.reviewText[2031]\nreview_example",
      "metadata": {
        "trusted": true
      },
      "execution_count": 85,
      "outputs": [
        {
          "execution_count": 85,
          "output_type": "execute_result",
          "data": {
            "text/plain": "'[[ UPDATE - 6/19/2014 ]]So my lovely wife bought me a Samsung Galaxy Tab 4 for Father\\'s Day and I\\'ve been loving it ever since.  Just as other with Samsung products, the Galaxy Tab 4 has the ability to add a microSD card to expand the memory on the device.  Since it\\'s been over a year, I decided to do some more research to see if SanDisk offered anything new.  As of 6/19/2014, their product lineup for microSD cards from worst to best (performance-wise) are the as follows:SanDiskSanDisk UltraSanDisk Ultra PLUSSanDisk ExtremeSanDisk Extreme PLUSSanDisk Extreme PRONow, the difference between all of these cards are simply the speed in which you can read/write data to the card.  Yes, the published rating of most all these cards (except the SanDisk regular) are Class 10/UHS-I but that\\'s just a rating... Actual real world performance does get better with each model, but with faster cards come more expensive prices.  Since Amazon doesn\\'t carry the Ultra PLUS model of microSD card, I had to do direct comparisons between the SanDisk Ultra ($34.27), Extreme ($57.95), and Extreme PLUS ($67.95).As mentioned in my earlier review, I purchased the SanDisk Ultra for my Galaxy S4.  My question was, did I want to pay over $20 more for a card that is faster than the one I already owned?  Or I could pay almost double to get SanDisk\\'s 2nd-most fastest microSD card.The Ultra works perfectly fine for my style of usage (storing/capturing pictures & HD video and movie playback) on my phone.  So in the end, I ended up just buying another SanDisk Ultra 64GB card.  I use my cell phone *more* than I do my tablet and if the card is good enough for my phone, it\\'s good enough for my tablet.  I don\\'t own a 4K HD camera or anything like that, so I honestly didn\\'t see a need to get one of the faster cards at this time.I am now a proud owner of 2 SanDisk Ultra cards and have absolutely 0 issues with it in my Samsung devices.[[ ORIGINAL REVIEW - 5/1/2013 ]]I haven\\'t had to buy a microSD card in a long time. The last time I bought one was for my cell phone over 2 years ago. But since my cellular contract was up, I knew I would have to get a newer card in addition to my new phone, the Samsung Galaxy S4. Reason for this is because I knew my small 16GB microSD card wasn\\'t going to cut it.Doing research on the Galaxy S4, I wanted to get the best card possible that had decent capacity (32 GB or greater). This led me to find that the Galaxy S4 supports the microSDXC Class 10 UHS-I card, which is the fastest possible given that class. Searching for that specifically on Amazon gave me results of only 3 vendors (as of April) that makes these microSDXC Class 10 UHS-1 cards. They are Sandisk (the majority), Samsung and Lexar. Nobody else makes these that are sold on Amazon.Seeing how SanDisk is a pretty good name out of the 3 (I\\'ve used them the most), I decided upon the SanDisk because Lexar was overpriced and the Samsung one was overpriced (as well as not eligible for Amazon Prime).But the scary thing is that when you filter by the SanDisk, you literally get DOZENS of options. All of them have different model numbers, different sizes, etc. Then there\\'s that confusion of what\\'s the difference between SDHC & SDXC?SDHC vs SDXC:SDHC stand for \"Secure Digital High Capacity\" and SDXC stands for \"Secure Digital eXtended Capacity\". Essentially these two cards are the same with the exception that SDHC only supports capcities up to 32GB and is formated with the FAT32 file system. The SDXC cards are formatted with the exFAT file system. If you use an SDXC card in a device, it must support that file system, otherwise it may not be recognizable and/or you have to reformat the card to FAT32.FAT32 vs exFAT:The differences between the two file systems means that FAT32 has a maximum file size of 4GB, limited by that file system. exFAT on the otherhand, supports file sizes up to 2TB (terabytes). The only thing you need to know here really is that it\\'s possible your device doesn\\'t support exFAT. If that\\'s the case, just reformat it to FAT32. REMEMBER FORMATTING ERASES ALL DATA!To clarify the model numbers, I I hopped over to the SanDisk official webpage. What I found there is that they offer two \"highspeed\" options for SanDisk cards. These are SanDisk Extreme Pro and SanDisk Ultra. SanDisk Extreme Pro is a line that supports read speeds up to 95MB/sec, however they are SDHC only. To make things worse, they are currently only available in 16GB & 8GB capacities. Since one of my requirements was to have a lot of storage, I ruled these out.The remaining devices listed on Amazon\\'s search were the SanDisk Ultra line. But here, confusion sets in because SanDisk separates these cards to two different devices. Cameras & mobile devices. Is there a real difference between the two or is this just a marketing stunt? Unfortunately I\\'m not sure but I do know the price difference between the two range from a couple cents to a few dollars. Since I wasn\\'t sure, I opted for the one specifically targeted for mobile devices (just in case there is some kind of compatibility issue). To find the exact model number, I would go to Sandisk\\'s webpage (sandisk.com) and compare their existing product lineup. From there, you get exact model numbers and you can then search Amazon for these model numbers. That is how I got mine (SDSDQUA-064G).As for speed tests, I haven\\'t run any specific testing, but copying 8 GB worth of data from my PC to the card literally took just a few minutes.One last note is that Amazon attaches additional characters to the end (for example SDSDQUA-064G-AFFP-A vs SDSDQUA-064G-U46A). The difference between the two is that the \"AFFP-A\" means \"Amazon Frustration Free Packaging\". Other than that, these are exactly the same.  If you\\'re wondering what I got (and want to use it in your Galaxy S4), I got the SDSDQUA-064G-u46A and it works like charm.'"
          },
          "metadata": {}
        }
      ],
      "id": "5010a0d2-649e-4221-a3ca-b875cc4a137b"
    },
    {
      "cell_type": "code",
      "source": "review_example=re.sub(\"[^a-zA-Z]\",' ',review_example)\nreview_example",
      "metadata": {
        "tags": [],
        "trusted": true
      },
      "execution_count": 86,
      "outputs": [
        {
          "execution_count": 86,
          "output_type": "execute_result",
          "data": {
            "text/plain": "'   UPDATE               So my lovely wife bought me a Samsung Galaxy Tab   for Father s Day and I ve been loving it ever since   Just as other with Samsung products  the Galaxy Tab   has the ability to add a microSD card to expand the memory on the device   Since it s been over a year  I decided to do some more research to see if SanDisk offered anything new   As of            their product lineup for microSD cards from worst to best  performance wise  are the as follows SanDiskSanDisk UltraSanDisk Ultra PLUSSanDisk ExtremeSanDisk Extreme PLUSSanDisk Extreme PRONow  the difference between all of these cards are simply the speed in which you can read write data to the card   Yes  the published rating of most all these cards  except the SanDisk regular  are Class    UHS I but that s just a rating    Actual real world performance does get better with each model  but with faster cards come more expensive prices   Since Amazon doesn t carry the Ultra PLUS model of microSD card  I had to do direct comparisons between the SanDisk Ultra           Extreme           and Extreme PLUS          As mentioned in my earlier review  I purchased the SanDisk Ultra for my Galaxy S    My question was  did I want to pay over     more for a card that is faster than the one I already owned   Or I could pay almost double to get SanDisk s  nd most fastest microSD card The Ultra works perfectly fine for my style of usage  storing capturing pictures   HD video and movie playback  on my phone   So in the end  I ended up just buying another SanDisk Ultra   GB card   I use my cell phone  more  than I do my tablet and if the card is good enough for my phone  it s good enough for my tablet   I don t own a  K HD camera or anything like that  so I honestly didn t see a need to get one of the faster cards at this time I am now a proud owner of   SanDisk Ultra cards and have absolutely   issues with it in my Samsung devices    ORIGINAL REVIEW              I haven t had to buy a microSD card in a long time  The last time I bought one was for my cell phone over   years ago  But since my cellular contract was up  I knew I would have to get a newer card in addition to my new phone  the Samsung Galaxy S   Reason for this is because I knew my small   GB microSD card wasn t going to cut it Doing research on the Galaxy S   I wanted to get the best card possible that had decent capacity     GB or greater   This led me to find that the Galaxy S  supports the microSDXC Class    UHS I card  which is the fastest possible given that class  Searching for that specifically on Amazon gave me results of only   vendors  as of April  that makes these microSDXC Class    UHS   cards  They are Sandisk  the majority   Samsung and Lexar  Nobody else makes these that are sold on Amazon Seeing how SanDisk is a pretty good name out of the    I ve used them the most   I decided upon the SanDisk because Lexar was overpriced and the Samsung one was overpriced  as well as not eligible for Amazon Prime  But the scary thing is that when you filter by the SanDisk  you literally get DOZENS of options  All of them have different model numbers  different sizes  etc  Then there s that confusion of what s the difference between SDHC   SDXC SDHC vs SDXC SDHC stand for  Secure Digital High Capacity  and SDXC stands for  Secure Digital eXtended Capacity   Essentially these two cards are the same with the exception that SDHC only supports capcities up to   GB and is formated with the FAT   file system  The SDXC cards are formatted with the exFAT file system  If you use an SDXC card in a device  it must support that file system  otherwise it may not be recognizable and or you have to reformat the card to FAT   FAT   vs exFAT The differences between the two file systems means that FAT   has a maximum file size of  GB  limited by that file system  exFAT on the otherhand  supports file sizes up to  TB  terabytes   The only thing you need to know here really is that it s possible your device doesn t support exFAT  If that s the case  just reformat it to FAT    REMEMBER FORMATTING ERASES ALL DATA To clarify the model numbers  I I hopped over to the SanDisk official webpage  What I found there is that they offer two  highspeed  options for SanDisk cards  These are SanDisk Extreme Pro and SanDisk Ultra  SanDisk Extreme Pro is a line that supports read speeds up to   MB sec  however they are SDHC only  To make things worse  they are currently only available in   GB    GB capacities  Since one of my requirements was to have a lot of storage  I ruled these out The remaining devices listed on Amazon s search were the SanDisk Ultra line  But here  confusion sets in because SanDisk separates these cards to two different devices  Cameras   mobile devices  Is there a real difference between the two or is this just a marketing stunt  Unfortunately I m not sure but I do know the price difference between the two range from a couple cents to a few dollars  Since I wasn t sure  I opted for the one specifically targeted for mobile devices  just in case there is some kind of compatibility issue   To find the exact model number  I would go to Sandisk s webpage  sandisk com  and compare their existing product lineup  From there  you get exact model numbers and you can then search Amazon for these model numbers  That is how I got mine  SDSDQUA    G  As for speed tests  I haven t run any specific testing  but copying   GB worth of data from my PC to the card literally took just a few minutes One last note is that Amazon attaches additional characters to the end  for example SDSDQUA    G AFFP A vs SDSDQUA    G U  A   The difference between the two is that the  AFFP A  means  Amazon Frustration Free Packaging   Other than that  these are exactly the same   If you re wondering what I got  and want to use it in your Galaxy S    I got the SDSDQUA    G u  A and it works like charm '"
          },
          "metadata": {}
        }
      ],
      "id": "f38addeb-1628-41d8-aca1-be8fa2f7254c"
    },
    {
      "cell_type": "code",
      "source": "review_example= review_example.lower().split()\nreview_example",
      "metadata": {
        "collapsed": true,
        "jupyter": {
          "outputs_hidden": true
        },
        "tags": [],
        "trusted": true
      },
      "execution_count": 87,
      "outputs": [
        {
          "execution_count": 87,
          "output_type": "execute_result",
          "data": {
            "text/plain": "['update',\n 'so',\n 'my',\n 'lovely',\n 'wife',\n 'bought',\n 'me',\n 'a',\n 'samsung',\n 'galaxy',\n 'tab',\n 'for',\n 'father',\n 's',\n 'day',\n 'and',\n 'i',\n 've',\n 'been',\n 'loving',\n 'it',\n 'ever',\n 'since',\n 'just',\n 'as',\n 'other',\n 'with',\n 'samsung',\n 'products',\n 'the',\n 'galaxy',\n 'tab',\n 'has',\n 'the',\n 'ability',\n 'to',\n 'add',\n 'a',\n 'microsd',\n 'card',\n 'to',\n 'expand',\n 'the',\n 'memory',\n 'on',\n 'the',\n 'device',\n 'since',\n 'it',\n 's',\n 'been',\n 'over',\n 'a',\n 'year',\n 'i',\n 'decided',\n 'to',\n 'do',\n 'some',\n 'more',\n 'research',\n 'to',\n 'see',\n 'if',\n 'sandisk',\n 'offered',\n 'anything',\n 'new',\n 'as',\n 'of',\n 'their',\n 'product',\n 'lineup',\n 'for',\n 'microsd',\n 'cards',\n 'from',\n 'worst',\n 'to',\n 'best',\n 'performance',\n 'wise',\n 'are',\n 'the',\n 'as',\n 'follows',\n 'sandisksandisk',\n 'ultrasandisk',\n 'ultra',\n 'plussandisk',\n 'extremesandisk',\n 'extreme',\n 'plussandisk',\n 'extreme',\n 'pronow',\n 'the',\n 'difference',\n 'between',\n 'all',\n 'of',\n 'these',\n 'cards',\n 'are',\n 'simply',\n 'the',\n 'speed',\n 'in',\n 'which',\n 'you',\n 'can',\n 'read',\n 'write',\n 'data',\n 'to',\n 'the',\n 'card',\n 'yes',\n 'the',\n 'published',\n 'rating',\n 'of',\n 'most',\n 'all',\n 'these',\n 'cards',\n 'except',\n 'the',\n 'sandisk',\n 'regular',\n 'are',\n 'class',\n 'uhs',\n 'i',\n 'but',\n 'that',\n 's',\n 'just',\n 'a',\n 'rating',\n 'actual',\n 'real',\n 'world',\n 'performance',\n 'does',\n 'get',\n 'better',\n 'with',\n 'each',\n 'model',\n 'but',\n 'with',\n 'faster',\n 'cards',\n 'come',\n 'more',\n 'expensive',\n 'prices',\n 'since',\n 'amazon',\n 'doesn',\n 't',\n 'carry',\n 'the',\n 'ultra',\n 'plus',\n 'model',\n 'of',\n 'microsd',\n 'card',\n 'i',\n 'had',\n 'to',\n 'do',\n 'direct',\n 'comparisons',\n 'between',\n 'the',\n 'sandisk',\n 'ultra',\n 'extreme',\n 'and',\n 'extreme',\n 'plus',\n 'as',\n 'mentioned',\n 'in',\n 'my',\n 'earlier',\n 'review',\n 'i',\n 'purchased',\n 'the',\n 'sandisk',\n 'ultra',\n 'for',\n 'my',\n 'galaxy',\n 's',\n 'my',\n 'question',\n 'was',\n 'did',\n 'i',\n 'want',\n 'to',\n 'pay',\n 'over',\n 'more',\n 'for',\n 'a',\n 'card',\n 'that',\n 'is',\n 'faster',\n 'than',\n 'the',\n 'one',\n 'i',\n 'already',\n 'owned',\n 'or',\n 'i',\n 'could',\n 'pay',\n 'almost',\n 'double',\n 'to',\n 'get',\n 'sandisk',\n 's',\n 'nd',\n 'most',\n 'fastest',\n 'microsd',\n 'card',\n 'the',\n 'ultra',\n 'works',\n 'perfectly',\n 'fine',\n 'for',\n 'my',\n 'style',\n 'of',\n 'usage',\n 'storing',\n 'capturing',\n 'pictures',\n 'hd',\n 'video',\n 'and',\n 'movie',\n 'playback',\n 'on',\n 'my',\n 'phone',\n 'so',\n 'in',\n 'the',\n 'end',\n 'i',\n 'ended',\n 'up',\n 'just',\n 'buying',\n 'another',\n 'sandisk',\n 'ultra',\n 'gb',\n 'card',\n 'i',\n 'use',\n 'my',\n 'cell',\n 'phone',\n 'more',\n 'than',\n 'i',\n 'do',\n 'my',\n 'tablet',\n 'and',\n 'if',\n 'the',\n 'card',\n 'is',\n 'good',\n 'enough',\n 'for',\n 'my',\n 'phone',\n 'it',\n 's',\n 'good',\n 'enough',\n 'for',\n 'my',\n 'tablet',\n 'i',\n 'don',\n 't',\n 'own',\n 'a',\n 'k',\n 'hd',\n 'camera',\n 'or',\n 'anything',\n 'like',\n 'that',\n 'so',\n 'i',\n 'honestly',\n 'didn',\n 't',\n 'see',\n 'a',\n 'need',\n 'to',\n 'get',\n 'one',\n 'of',\n 'the',\n 'faster',\n 'cards',\n 'at',\n 'this',\n 'time',\n 'i',\n 'am',\n 'now',\n 'a',\n 'proud',\n 'owner',\n 'of',\n 'sandisk',\n 'ultra',\n 'cards',\n 'and',\n 'have',\n 'absolutely',\n 'issues',\n 'with',\n 'it',\n 'in',\n 'my',\n 'samsung',\n 'devices',\n 'original',\n 'review',\n 'i',\n 'haven',\n 't',\n 'had',\n 'to',\n 'buy',\n 'a',\n 'microsd',\n 'card',\n 'in',\n 'a',\n 'long',\n 'time',\n 'the',\n 'last',\n 'time',\n 'i',\n 'bought',\n 'one',\n 'was',\n 'for',\n 'my',\n 'cell',\n 'phone',\n 'over',\n 'years',\n 'ago',\n 'but',\n 'since',\n 'my',\n 'cellular',\n 'contract',\n 'was',\n 'up',\n 'i',\n 'knew',\n 'i',\n 'would',\n 'have',\n 'to',\n 'get',\n 'a',\n 'newer',\n 'card',\n 'in',\n 'addition',\n 'to',\n 'my',\n 'new',\n 'phone',\n 'the',\n 'samsung',\n 'galaxy',\n 's',\n 'reason',\n 'for',\n 'this',\n 'is',\n 'because',\n 'i',\n 'knew',\n 'my',\n 'small',\n 'gb',\n 'microsd',\n 'card',\n 'wasn',\n 't',\n 'going',\n 'to',\n 'cut',\n 'it',\n 'doing',\n 'research',\n 'on',\n 'the',\n 'galaxy',\n 's',\n 'i',\n 'wanted',\n 'to',\n 'get',\n 'the',\n 'best',\n 'card',\n 'possible',\n 'that',\n 'had',\n 'decent',\n 'capacity',\n 'gb',\n 'or',\n 'greater',\n 'this',\n 'led',\n 'me',\n 'to',\n 'find',\n 'that',\n 'the',\n 'galaxy',\n 's',\n 'supports',\n 'the',\n 'microsdxc',\n 'class',\n 'uhs',\n 'i',\n 'card',\n 'which',\n 'is',\n 'the',\n 'fastest',\n 'possible',\n 'given',\n 'that',\n 'class',\n 'searching',\n 'for',\n 'that',\n 'specifically',\n 'on',\n 'amazon',\n 'gave',\n 'me',\n 'results',\n 'of',\n 'only',\n 'vendors',\n 'as',\n 'of',\n 'april',\n 'that',\n 'makes',\n 'these',\n 'microsdxc',\n 'class',\n 'uhs',\n 'cards',\n 'they',\n 'are',\n 'sandisk',\n 'the',\n 'majority',\n 'samsung',\n 'and',\n 'lexar',\n 'nobody',\n 'else',\n 'makes',\n 'these',\n 'that',\n 'are',\n 'sold',\n 'on',\n 'amazon',\n 'seeing',\n 'how',\n 'sandisk',\n 'is',\n 'a',\n 'pretty',\n 'good',\n 'name',\n 'out',\n 'of',\n 'the',\n 'i',\n 've',\n 'used',\n 'them',\n 'the',\n 'most',\n 'i',\n 'decided',\n 'upon',\n 'the',\n 'sandisk',\n 'because',\n 'lexar',\n 'was',\n 'overpriced',\n 'and',\n 'the',\n 'samsung',\n 'one',\n 'was',\n 'overpriced',\n 'as',\n 'well',\n 'as',\n 'not',\n 'eligible',\n 'for',\n 'amazon',\n 'prime',\n 'but',\n 'the',\n 'scary',\n 'thing',\n 'is',\n 'that',\n 'when',\n 'you',\n 'filter',\n 'by',\n 'the',\n 'sandisk',\n 'you',\n 'literally',\n 'get',\n 'dozens',\n 'of',\n 'options',\n 'all',\n 'of',\n 'them',\n 'have',\n 'different',\n 'model',\n 'numbers',\n 'different',\n 'sizes',\n 'etc',\n 'then',\n 'there',\n 's',\n 'that',\n 'confusion',\n 'of',\n 'what',\n 's',\n 'the',\n 'difference',\n 'between',\n 'sdhc',\n 'sdxc',\n 'sdhc',\n 'vs',\n 'sdxc',\n 'sdhc',\n 'stand',\n 'for',\n 'secure',\n 'digital',\n 'high',\n 'capacity',\n 'and',\n 'sdxc',\n 'stands',\n 'for',\n 'secure',\n 'digital',\n 'extended',\n 'capacity',\n 'essentially',\n 'these',\n 'two',\n 'cards',\n 'are',\n 'the',\n 'same',\n 'with',\n 'the',\n 'exception',\n 'that',\n 'sdhc',\n 'only',\n 'supports',\n 'capcities',\n 'up',\n 'to',\n 'gb',\n 'and',\n 'is',\n 'formated',\n 'with',\n 'the',\n 'fat',\n 'file',\n 'system',\n 'the',\n 'sdxc',\n 'cards',\n 'are',\n 'formatted',\n 'with',\n 'the',\n 'exfat',\n 'file',\n 'system',\n 'if',\n 'you',\n 'use',\n 'an',\n 'sdxc',\n 'card',\n 'in',\n 'a',\n 'device',\n 'it',\n 'must',\n 'support',\n 'that',\n 'file',\n 'system',\n 'otherwise',\n 'it',\n 'may',\n 'not',\n 'be',\n 'recognizable',\n 'and',\n 'or',\n 'you',\n 'have',\n 'to',\n 'reformat',\n 'the',\n 'card',\n 'to',\n 'fat',\n 'fat',\n 'vs',\n 'exfat',\n 'the',\n 'differences',\n 'between',\n 'the',\n 'two',\n 'file',\n 'systems',\n 'means',\n 'that',\n 'fat',\n 'has',\n 'a',\n 'maximum',\n 'file',\n 'size',\n 'of',\n 'gb',\n 'limited',\n 'by',\n 'that',\n 'file',\n 'system',\n 'exfat',\n 'on',\n 'the',\n 'otherhand',\n 'supports',\n 'file',\n 'sizes',\n 'up',\n 'to',\n 'tb',\n 'terabytes',\n 'the',\n 'only',\n 'thing',\n 'you',\n 'need',\n 'to',\n 'know',\n 'here',\n 'really',\n 'is',\n 'that',\n 'it',\n 's',\n 'possible',\n 'your',\n 'device',\n 'doesn',\n 't',\n 'support',\n 'exfat',\n 'if',\n 'that',\n 's',\n 'the',\n 'case',\n 'just',\n 'reformat',\n 'it',\n 'to',\n 'fat',\n 'remember',\n 'formatting',\n 'erases',\n 'all',\n 'data',\n 'to',\n 'clarify',\n 'the',\n 'model',\n 'numbers',\n 'i',\n 'i',\n 'hopped',\n 'over',\n 'to',\n 'the',\n 'sandisk',\n 'official',\n 'webpage',\n 'what',\n 'i',\n 'found',\n 'there',\n 'is',\n 'that',\n 'they',\n 'offer',\n 'two',\n 'highspeed',\n 'options',\n 'for',\n 'sandisk',\n 'cards',\n 'these',\n 'are',\n 'sandisk',\n 'extreme',\n 'pro',\n 'and',\n 'sandisk',\n 'ultra',\n 'sandisk',\n 'extreme',\n 'pro',\n 'is',\n 'a',\n 'line',\n 'that',\n 'supports',\n 'read',\n 'speeds',\n 'up',\n 'to',\n 'mb',\n 'sec',\n 'however',\n 'they',\n 'are',\n 'sdhc',\n 'only',\n 'to',\n 'make',\n 'things',\n 'worse',\n 'they',\n 'are',\n 'currently',\n 'only',\n 'available',\n 'in',\n 'gb',\n 'gb',\n 'capacities',\n 'since',\n 'one',\n 'of',\n 'my',\n 'requirements',\n 'was',\n 'to',\n 'have',\n 'a',\n 'lot',\n 'of',\n 'storage',\n 'i',\n 'ruled',\n 'these',\n 'out',\n 'the',\n 'remaining',\n 'devices',\n 'listed',\n 'on',\n 'amazon',\n 's',\n 'search',\n 'were',\n 'the',\n 'sandisk',\n 'ultra',\n 'line',\n 'but',\n 'here',\n 'confusion',\n 'sets',\n 'in',\n 'because',\n 'sandisk',\n 'separates',\n 'these',\n 'cards',\n 'to',\n 'two',\n 'different',\n 'devices',\n 'cameras',\n 'mobile',\n 'devices',\n 'is',\n 'there',\n 'a',\n 'real',\n 'difference',\n 'between',\n 'the',\n 'two',\n 'or',\n 'is',\n 'this',\n 'just',\n 'a',\n 'marketing',\n 'stunt',\n 'unfortunately',\n 'i',\n 'm',\n 'not',\n 'sure',\n 'but',\n 'i',\n 'do',\n 'know',\n 'the',\n 'price',\n 'difference',\n 'between',\n 'the',\n 'two',\n 'range',\n 'from',\n 'a',\n 'couple',\n 'cents',\n 'to',\n 'a',\n 'few',\n 'dollars',\n 'since',\n 'i',\n 'wasn',\n 't',\n 'sure',\n 'i',\n 'opted',\n 'for',\n 'the',\n 'one',\n 'specifically',\n 'targeted',\n 'for',\n 'mobile',\n 'devices',\n 'just',\n 'in',\n 'case',\n 'there',\n 'is',\n 'some',\n 'kind',\n 'of',\n 'compatibility',\n 'issue',\n 'to',\n 'find',\n 'the',\n 'exact',\n 'model',\n 'number',\n 'i',\n 'would',\n 'go',\n 'to',\n 'sandisk',\n 's',\n 'webpage',\n 'sandisk',\n 'com',\n 'and',\n 'compare',\n 'their',\n 'existing',\n 'product',\n 'lineup',\n 'from',\n 'there',\n 'you',\n 'get',\n 'exact',\n 'model',\n 'numbers',\n 'and',\n 'you',\n 'can',\n 'then',\n 'search',\n 'amazon',\n 'for',\n 'these',\n 'model',\n 'numbers',\n 'that',\n 'is',\n 'how',\n 'i',\n 'got',\n 'mine',\n 'sdsdqua',\n 'g',\n 'as',\n 'for',\n 'speed',\n 'tests',\n 'i',\n 'haven',\n 't',\n 'run',\n 'any',\n 'specific',\n 'testing',\n 'but',\n 'copying',\n 'gb',\n 'worth',\n 'of',\n 'data',\n 'from',\n 'my',\n 'pc',\n 'to',\n 'the',\n 'card',\n 'literally',\n 'took',\n 'just',\n 'a',\n 'few',\n 'minutes',\n 'one',\n 'last',\n 'note',\n 'is',\n ...]"
          },
          "metadata": {}
        }
      ],
      "id": "b3f2a9be-f7ff-4c46-b725-90b0dcce9d59"
    },
    {
      "cell_type": "code",
      "source": "rt= lambda x: re.sub(\"[^a-zA-Z]\",' ', str(x))\ndf[\"reviewText\"]= df[\"reviewText\"].map(rt)\ndf[\"reviewText\"]= df[\"reviewText\"].str.lower()\ndf.head()",
      "metadata": {
        "tags": [],
        "trusted": true
      },
      "execution_count": 88,
      "outputs": [
        {
          "execution_count": 88,
          "output_type": "execute_result",
          "data": {
            "text/plain": "                 reviewerName  overall  \\\n2031     Hyoun Kim \"Faluzure\"        5   \n3449        NLee the Engineer        5   \n4212              SkincareCEO        1   \n317   Amazon Customer \"Kelly\"        1   \n4672                  Twister        5   \n\n                                             reviewText  reviewTime  day_diff  \\\n2031     update               so my lovely wife boug...  05-01-2013       702   \n3449  i have tested dozens of sdhc and micro sdhc ca...  26-09-2012       803   \n4212  note   please read the last update  scroll to ...  08-05-2013       579   \n317   if your card gets hot enough to be painful  it...  09-02-2012      1033   \n4672  sandisk announcement of the first    gb micro ...  03-07-2014       158   \n\n      helpful_yes  helpful_no  total_vote  score_pos_neg_diff  \\\n2031         1952          68        2020                1884   \n3449         1428          77        1505                1351   \n4212         1568         126        1694                1442   \n317           422          73         495                 349   \n4672           45           4          49                  41   \n\n      score_average_rating  wilson_lower_bound  \n2031              0.966337            0.957544  \n3449              0.948837            0.936519  \n4212              0.925620            0.912139  \n317               0.852525            0.818577  \n4672              0.918367            0.808109  ",
            "text/html": "<div>\n<style scoped>\n    .dataframe tbody tr th:only-of-type {\n        vertical-align: middle;\n    }\n\n    .dataframe tbody tr th {\n        vertical-align: top;\n    }\n\n    .dataframe thead th {\n        text-align: right;\n    }\n</style>\n<table border=\"1\" class=\"dataframe\">\n  <thead>\n    <tr style=\"text-align: right;\">\n      <th></th>\n      <th>reviewerName</th>\n      <th>overall</th>\n      <th>reviewText</th>\n      <th>reviewTime</th>\n      <th>day_diff</th>\n      <th>helpful_yes</th>\n      <th>helpful_no</th>\n      <th>total_vote</th>\n      <th>score_pos_neg_diff</th>\n      <th>score_average_rating</th>\n      <th>wilson_lower_bound</th>\n    </tr>\n  </thead>\n  <tbody>\n    <tr>\n      <th>2031</th>\n      <td>Hyoun Kim \"Faluzure\"</td>\n      <td>5</td>\n      <td>update               so my lovely wife boug...</td>\n      <td>05-01-2013</td>\n      <td>702</td>\n      <td>1952</td>\n      <td>68</td>\n      <td>2020</td>\n      <td>1884</td>\n      <td>0.966337</td>\n      <td>0.957544</td>\n    </tr>\n    <tr>\n      <th>3449</th>\n      <td>NLee the Engineer</td>\n      <td>5</td>\n      <td>i have tested dozens of sdhc and micro sdhc ca...</td>\n      <td>26-09-2012</td>\n      <td>803</td>\n      <td>1428</td>\n      <td>77</td>\n      <td>1505</td>\n      <td>1351</td>\n      <td>0.948837</td>\n      <td>0.936519</td>\n    </tr>\n    <tr>\n      <th>4212</th>\n      <td>SkincareCEO</td>\n      <td>1</td>\n      <td>note   please read the last update  scroll to ...</td>\n      <td>08-05-2013</td>\n      <td>579</td>\n      <td>1568</td>\n      <td>126</td>\n      <td>1694</td>\n      <td>1442</td>\n      <td>0.925620</td>\n      <td>0.912139</td>\n    </tr>\n    <tr>\n      <th>317</th>\n      <td>Amazon Customer \"Kelly\"</td>\n      <td>1</td>\n      <td>if your card gets hot enough to be painful  it...</td>\n      <td>09-02-2012</td>\n      <td>1033</td>\n      <td>422</td>\n      <td>73</td>\n      <td>495</td>\n      <td>349</td>\n      <td>0.852525</td>\n      <td>0.818577</td>\n    </tr>\n    <tr>\n      <th>4672</th>\n      <td>Twister</td>\n      <td>5</td>\n      <td>sandisk announcement of the first    gb micro ...</td>\n      <td>03-07-2014</td>\n      <td>158</td>\n      <td>45</td>\n      <td>4</td>\n      <td>49</td>\n      <td>41</td>\n      <td>0.918367</td>\n      <td>0.808109</td>\n    </tr>\n  </tbody>\n</table>\n</div>"
          },
          "metadata": {}
        }
      ],
      "id": "65485fe5-60e4-4d1e-ad3b-47c21c284fdc"
    },
    {
      "cell_type": "code",
      "source": "from vaderSentiment.vaderSentiment import SentimentIntensityAnalyzer\ndf[['polarity','subjectivity']]= df['reviewText'].apply(lambda Text:pd.Series(TextBlob(Text).sentiment))\n\nfor index, row in df['reviewText'].iteritems():\n    score= SentimentIntensityAnalyzer().polarity_scores(row)\n    \n    neg= score['neg']\n    neu= score['neu']\n    pos= score['pos']\n    if neg>pos:\n        df.loc[index,'sentiment']='Negative'\n    elif pos>neg:\n        df.loc[index, 'sentiment']= 'Positive'\n    else:\n        df.loc[index, 'sentiment']= 'Neutral'\n    ",
      "metadata": {
        "trusted": true
      },
      "execution_count": 92,
      "outputs": [
        {
          "ename": "<class 'ModuleNotFoundError'>",
          "evalue": "No module named 'vaderSentiment'",
          "traceback": [
            "\u001b[0;31m---------------------------------------------------------------------------\u001b[0m",
            "\u001b[0;31mModuleNotFoundError\u001b[0m                       Traceback (most recent call last)",
            "Cell \u001b[0;32mIn[92], line 1\u001b[0m\n\u001b[0;32m----> 1\u001b[0m \u001b[38;5;28;01mfrom\u001b[39;00m \u001b[38;5;21;01mvaderSentiment\u001b[39;00m\u001b[38;5;21;01m.\u001b[39;00m\u001b[38;5;21;01mvaderSentiment\u001b[39;00m \u001b[38;5;28;01mimport\u001b[39;00m SentimentIntensityAnalyzer\n\u001b[1;32m      2\u001b[0m df[[\u001b[38;5;124m'\u001b[39m\u001b[38;5;124mpolarity\u001b[39m\u001b[38;5;124m'\u001b[39m,\u001b[38;5;124m'\u001b[39m\u001b[38;5;124msubjectivity\u001b[39m\u001b[38;5;124m'\u001b[39m]]\u001b[38;5;241m=\u001b[39m df[\u001b[38;5;124m'\u001b[39m\u001b[38;5;124mreviewText\u001b[39m\u001b[38;5;124m'\u001b[39m]\u001b[38;5;241m.\u001b[39mapply(\u001b[38;5;28;01mlambda\u001b[39;00m Text:pd\u001b[38;5;241m.\u001b[39mSeries(TextBlob(Text)\u001b[38;5;241m.\u001b[39msentiment))\n\u001b[1;32m      4\u001b[0m \u001b[38;5;28;01mfor\u001b[39;00m index, row \u001b[38;5;129;01min\u001b[39;00m df[\u001b[38;5;124m'\u001b[39m\u001b[38;5;124mreviewText\u001b[39m\u001b[38;5;124m'\u001b[39m]\u001b[38;5;241m.\u001b[39miteritems():\n",
            "\u001b[0;31mModuleNotFoundError\u001b[0m: No module named 'vaderSentiment'"
          ],
          "output_type": "error"
        }
      ],
      "id": "fb461e74-9d1a-42fc-9fbb-50be9354dbb6"
    },
    {
      "cell_type": "code",
      "source": "df[df['sentiment']=='Positive'].sort_values(\"wilson_lower_bound\",\n                                           ascending=False).head(5)",
      "metadata": {
        "trusted": true
      },
      "execution_count": 93,
      "outputs": [
        {
          "ename": "<class 'KeyError'>",
          "evalue": "'sentiment'",
          "traceback": [
            "\u001b[0;31m---------------------------------------------------------------------------\u001b[0m",
            "\u001b[0;31mKeyError\u001b[0m                                  Traceback (most recent call last)",
            "File \u001b[0;32m/lib/python3.11/site-packages/pandas/core/indexes/base.py:3802\u001b[0m, in \u001b[0;36mIndex.get_loc\u001b[0;34m(self, key, method, tolerance)\u001b[0m\n\u001b[1;32m   3801\u001b[0m \u001b[38;5;28;01mtry\u001b[39;00m:\n\u001b[0;32m-> 3802\u001b[0m     \u001b[38;5;28;01mreturn\u001b[39;00m \u001b[38;5;28;43mself\u001b[39;49m\u001b[38;5;241;43m.\u001b[39;49m\u001b[43m_engine\u001b[49m\u001b[38;5;241;43m.\u001b[39;49m\u001b[43mget_loc\u001b[49m\u001b[43m(\u001b[49m\u001b[43mcasted_key\u001b[49m\u001b[43m)\u001b[49m\n\u001b[1;32m   3803\u001b[0m \u001b[38;5;28;01mexcept\u001b[39;00m \u001b[38;5;167;01mKeyError\u001b[39;00m \u001b[38;5;28;01mas\u001b[39;00m err:\n",
            "File \u001b[0;32m/lib/python3.11/site-packages/pandas/_libs/index.pyx:138\u001b[0m, in \u001b[0;36mpandas._libs.index.IndexEngine.get_loc\u001b[0;34m()\u001b[0m\n",
            "File \u001b[0;32m/lib/python3.11/site-packages/pandas/_libs/index.pyx:165\u001b[0m, in \u001b[0;36mpandas._libs.index.IndexEngine.get_loc\u001b[0;34m()\u001b[0m\n",
            "File \u001b[0;32mpandas/_libs/hashtable_class_helper.pxi:5745\u001b[0m, in \u001b[0;36mpandas._libs.hashtable.PyObjectHashTable.get_item\u001b[0;34m()\u001b[0m\n",
            "File \u001b[0;32mpandas/_libs/hashtable_class_helper.pxi:5753\u001b[0m, in \u001b[0;36mpandas._libs.hashtable.PyObjectHashTable.get_item\u001b[0;34m()\u001b[0m\n",
            "\u001b[0;31mKeyError\u001b[0m: 'sentiment'",
            "\nThe above exception was the direct cause of the following exception:\n",
            "\u001b[0;31mKeyError\u001b[0m                                  Traceback (most recent call last)",
            "Cell \u001b[0;32mIn[93], line 1\u001b[0m\n\u001b[0;32m----> 1\u001b[0m df[\u001b[43mdf\u001b[49m\u001b[43m[\u001b[49m\u001b[38;5;124;43m'\u001b[39;49m\u001b[38;5;124;43msentiment\u001b[39;49m\u001b[38;5;124;43m'\u001b[39;49m\u001b[43m]\u001b[49m\u001b[38;5;241m==\u001b[39m\u001b[38;5;124m'\u001b[39m\u001b[38;5;124mPositive\u001b[39m\u001b[38;5;124m'\u001b[39m]\u001b[38;5;241m.\u001b[39msort_values(\u001b[38;5;124m\"\u001b[39m\u001b[38;5;124mwilson_lower_bound\u001b[39m\u001b[38;5;124m\"\u001b[39m,\n\u001b[1;32m      2\u001b[0m                                            ascending\u001b[38;5;241m=\u001b[39m\u001b[38;5;28;01mFalse\u001b[39;00m)\u001b[38;5;241m.\u001b[39mhead(\u001b[38;5;241m5\u001b[39m)\n",
            "File \u001b[0;32m/lib/python3.11/site-packages/pandas/core/frame.py:3807\u001b[0m, in \u001b[0;36mDataFrame.__getitem__\u001b[0;34m(self, key)\u001b[0m\n\u001b[1;32m   3805\u001b[0m \u001b[38;5;28;01mif\u001b[39;00m \u001b[38;5;28mself\u001b[39m\u001b[38;5;241m.\u001b[39mcolumns\u001b[38;5;241m.\u001b[39mnlevels \u001b[38;5;241m>\u001b[39m \u001b[38;5;241m1\u001b[39m:\n\u001b[1;32m   3806\u001b[0m     \u001b[38;5;28;01mreturn\u001b[39;00m \u001b[38;5;28mself\u001b[39m\u001b[38;5;241m.\u001b[39m_getitem_multilevel(key)\n\u001b[0;32m-> 3807\u001b[0m indexer \u001b[38;5;241m=\u001b[39m \u001b[38;5;28;43mself\u001b[39;49m\u001b[38;5;241;43m.\u001b[39;49m\u001b[43mcolumns\u001b[49m\u001b[38;5;241;43m.\u001b[39;49m\u001b[43mget_loc\u001b[49m\u001b[43m(\u001b[49m\u001b[43mkey\u001b[49m\u001b[43m)\u001b[49m\n\u001b[1;32m   3808\u001b[0m \u001b[38;5;28;01mif\u001b[39;00m is_integer(indexer):\n\u001b[1;32m   3809\u001b[0m     indexer \u001b[38;5;241m=\u001b[39m [indexer]\n",
            "File \u001b[0;32m/lib/python3.11/site-packages/pandas/core/indexes/base.py:3804\u001b[0m, in \u001b[0;36mIndex.get_loc\u001b[0;34m(self, key, method, tolerance)\u001b[0m\n\u001b[1;32m   3802\u001b[0m     \u001b[38;5;28;01mreturn\u001b[39;00m \u001b[38;5;28mself\u001b[39m\u001b[38;5;241m.\u001b[39m_engine\u001b[38;5;241m.\u001b[39mget_loc(casted_key)\n\u001b[1;32m   3803\u001b[0m \u001b[38;5;28;01mexcept\u001b[39;00m \u001b[38;5;167;01mKeyError\u001b[39;00m \u001b[38;5;28;01mas\u001b[39;00m err:\n\u001b[0;32m-> 3804\u001b[0m     \u001b[38;5;28;01mraise\u001b[39;00m \u001b[38;5;167;01mKeyError\u001b[39;00m(key) \u001b[38;5;28;01mfrom\u001b[39;00m \u001b[38;5;21;01merr\u001b[39;00m\n\u001b[1;32m   3805\u001b[0m \u001b[38;5;28;01mexcept\u001b[39;00m \u001b[38;5;167;01mTypeError\u001b[39;00m:\n\u001b[1;32m   3806\u001b[0m     \u001b[38;5;66;03m# If we have a listlike key, _check_indexing_error will raise\u001b[39;00m\n\u001b[1;32m   3807\u001b[0m     \u001b[38;5;66;03m#  InvalidIndexError. Otherwise we fall through and re-raise\u001b[39;00m\n\u001b[1;32m   3808\u001b[0m     \u001b[38;5;66;03m#  the TypeError.\u001b[39;00m\n\u001b[1;32m   3809\u001b[0m     \u001b[38;5;28mself\u001b[39m\u001b[38;5;241m.\u001b[39m_check_indexing_error(key)\n",
            "\u001b[0;31mKeyError\u001b[0m: 'sentiment'"
          ],
          "output_type": "error"
        }
      ],
      "id": "7cf5e160-7006-4a0b-a777-5f38b76afd6f"
    },
    {
      "cell_type": "code",
      "source": "categorical_variable_summary(df,'sentiment')",
      "metadata": {
        "trusted": true
      },
      "execution_count": 94,
      "outputs": [
        {
          "ename": "<class 'NameError'>",
          "evalue": "name 'make_subplots' is not defined",
          "traceback": [
            "\u001b[0;31m---------------------------------------------------------------------------\u001b[0m",
            "\u001b[0;31mNameError\u001b[0m                                 Traceback (most recent call last)",
            "Cell \u001b[0;32mIn[94], line 1\u001b[0m\n\u001b[0;32m----> 1\u001b[0m \u001b[43mcategorical_variable_summary\u001b[49m\u001b[43m(\u001b[49m\u001b[43mdf\u001b[49m\u001b[43m,\u001b[49m\u001b[38;5;124;43m'\u001b[39;49m\u001b[38;5;124;43msentiment\u001b[39;49m\u001b[38;5;124;43m'\u001b[39;49m\u001b[43m)\u001b[49m\n",
            "Cell \u001b[0;32mIn[76], line 2\u001b[0m, in \u001b[0;36mcategorical_variable_summary\u001b[0;34m(df, column_name)\u001b[0m\n\u001b[1;32m      1\u001b[0m \u001b[38;5;28;01mdef\u001b[39;00m \u001b[38;5;21mcategorical_variable_summary\u001b[39m(df,column_name):\n\u001b[0;32m----> 2\u001b[0m     fig\u001b[38;5;241m=\u001b[39m \u001b[43mmake_subplots\u001b[49m(rows\u001b[38;5;241m=\u001b[39m\u001b[38;5;241m1\u001b[39m, cols\u001b[38;5;241m=\u001b[39m\u001b[38;5;241m2\u001b[39m,\n\u001b[1;32m      3\u001b[0m                   subplot_titles\u001b[38;5;241m=\u001b[39m(\u001b[38;5;124m'\u001b[39m\u001b[38;5;124mCountplot\u001b[39m\u001b[38;5;124m'\u001b[39m,\u001b[38;5;124m'\u001b[39m\u001b[38;5;124mPercentage\u001b[39m\u001b[38;5;124m'\u001b[39m),\n\u001b[1;32m      4\u001b[0m                   specs\u001b[38;5;241m=\u001b[39m[[{\u001b[38;5;124m\"\u001b[39m\u001b[38;5;124mtypes\u001b[39m\u001b[38;5;124m\"\u001b[39m:\u001b[38;5;124m\"\u001b[39m\u001b[38;5;124mxy\u001b[39m\u001b[38;5;124m\"\u001b[39m},{\u001b[38;5;124m'\u001b[39m\u001b[38;5;124mtypes\u001b[39m\u001b[38;5;124m'\u001b[39m:\u001b[38;5;124m'\u001b[39m\u001b[38;5;124mdomain\u001b[39m\u001b[38;5;124m'\u001b[39m}]])\n",
            "\u001b[0;31mNameError\u001b[0m: name 'make_subplots' is not defined"
          ],
          "output_type": "error"
        }
      ],
      "id": "c62b7980-6b94-4a1f-b92f-45e545aca27e"
    },
    {
      "cell_type": "code",
      "source": "",
      "metadata": {},
      "execution_count": null,
      "outputs": [],
      "id": "665c39a6-a1fb-40a7-b8d7-269aece39d54"
    }
  ]
}